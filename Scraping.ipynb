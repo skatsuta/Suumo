{
 "cells": [
  {
   "cell_type": "code",
   "execution_count": null,
   "metadata": {},
   "outputs": [],
   "source": [
    "import csv\n",
    "import time\n",
    "import requests\n",
    "from bs4 import BeautifulSoup\n",
    "\n",
    "class Timer:\n",
    "    \"\"\"\n",
    "    Timer measures elapsed time taken to execute a code block.\n",
    "    It is recommended to use this object with `with` block.\n",
    "    \n",
    "    Usage:\n",
    "        with Timer(message):\n",
    "            # code block to be measured here...\n",
    "    \"\"\"\n",
    "    def __init__(self, msg: str):\n",
    "        self.msg = msg\n",
    "        \n",
    "    def __enter__(self):\n",
    "        print(self.msg, end='')\n",
    "        self.start = time.time()\n",
    "        return self\n",
    "\n",
    "    def __exit__(self, *args):\n",
    "        elapsed = time.time() - self.start\n",
    "        print(' done: elapsed %.2f sec.' % elapsed)"
   ]
  },
  {
   "cell_type": "code",
   "execution_count": null,
   "metadata": {},
   "outputs": [],
   "source": [
    "def get_num_pages(url):    \n",
    "    #データ取得\n",
    "    result = requests.get(url)\n",
    "\n",
    "    #HTMLを元に、 BeautifulSoup オブジェクトを作る\n",
    "    soup = BeautifulSoup(result.content, 'lxml')\n",
    "\n",
    "    #ページ数を取得\n",
    "    pages = soup.select('ol.pagination-parts li a')\n",
    "    # 最後のページ番号が総ページ数\n",
    "    return int(pages[-1].text)"
   ]
  },
  {
   "cell_type": "code",
   "execution_count": null,
   "metadata": {},
   "outputs": [],
   "source": [
    "def parse_item(cassetteitem):    \n",
    "    # 建物名取得\n",
    "    name = cassetteitem.select_one('.cassetteitem_content-title').text\n",
    "    \n",
    "    #住所取得\n",
    "    address = cassetteitem.select_one('.cassetteitem_detail-col1').text\n",
    "\n",
    "    #最寄り駅を取得\n",
    "    stations = [item.text for item in cassetteitem.select('.cassetteitem_detail-col2 .cassetteitem_detail-text')]\n",
    "                        \n",
    "    #築年数と建物高さを取得\n",
    "    age, height = [item.text for item in cassetteitem.select('.cassetteitem_detail-col3 div')]\n",
    "\n",
    "    #各建物から売りに出ている部屋情報を取得\n",
    "    rows = []\n",
    "    rooms = cassetteitem.select('table.cassetteitem_other tbody tr')\n",
    "    for room in rooms:\n",
    "        cols = [col.text for col in room.select('td')[2:8]]\n",
    "        rows.append([name, address] + stations + [age, height] + cols)\n",
    "        \n",
    "    return rows"
   ]
  },
  {
   "cell_type": "code",
   "execution_count": null,
   "metadata": {},
   "outputs": [],
   "source": [
    "def scrape(url):\n",
    "    result = requests.get(url)\n",
    "    page = BeautifulSoup(result.content, 'lxml')\n",
    "    \n",
    "    #マンション名、住所、立地（最寄駅/徒歩~分）、築年数、建物高さが入っているcassetteitemを全て抜き出し\n",
    "    cassetteitems = page.select('#js-bukkenList .cassetteitem')\n",
    "\n",
    "    # 各 cassetteitem に対する parse 結果を返す generator を生成\n",
    "    return (parse_item(item) for item in cassetteitems)"
   ]
  },
  {
   "cell_type": "code",
   "execution_count": null,
   "metadata": {},
   "outputs": [],
   "source": [
    "base_urls = [\n",
    "    {\n",
    "        # 東京都心部, 東部 (13区)\n",
    "        'area': 'central_east',\n",
    "        'url': 'https://suumo.jp/jj/chintai/ichiran/FR301FC001/?ar=030&bs=040&ta=13&sc=13101&sc=13102&sc=13103&sc=13104&sc=13105&sc=13113&sc=13106&sc=13107&sc=13108&sc=13118&sc=13121&sc=13122&sc=13123&cb=0.0&ct=9999999&mb=0&mt=9999999&et=9999999&cn=9999999&shkr1=03&shkr2=03&shkr3=03&shkr4=03&sngz=&po1=25&pc=50'\n",
    "    },\n",
    "    {\n",
    "        # 東京西部, 北部, 南部 (10区)\n",
    "        'area': 'west_north_south',\n",
    "        'url': 'https://suumo.jp/jj/chintai/ichiran/FR301FC001/?ar=030&bs=040&ta=13&sc=13109&sc=13110&sc=13111&sc=13112&sc=13114&sc=13115&sc=13120&sc=13116&sc=13117&sc=13119&cb=0.0&ct=9999999&mb=0&mt=9999999&et=9999999&cn=9999999&shkr1=03&shkr2=03&shkr3=03&shkr4=03&sngz=&po1=25&pc=50'\n",
    "    },\n",
    "]"
   ]
  },
  {
   "cell_type": "code",
   "execution_count": null,
   "metadata": {
    "scrolled": false
   },
   "outputs": [],
   "source": [
    "for base_url in base_urls:\n",
    "    url = base_url['url']\n",
    "    \n",
    "    with Timer('Fetching the number of total pages of %s ...' % url):\n",
    "        # URL（検索結果の1ページ目）\n",
    "        num_pages = get_num_pages(url)\n",
    "    print('Total %d pages to scrape.' % num_pages)\n",
    "\n",
    "    #URLを入れるリスト; 1ページ目から最後のページまでを格納\n",
    "    urls = ['%s&pn=%d' % (url, i) for i in range(1, num_pages + 1)]\n",
    "    \n",
    "    out_file = 'suumo_%s.csv' % base_url['area']\n",
    "    with open(out_file, 'w') as f:\n",
    "        writer = csv.writer(f)\n",
    "\n",
    "        # CSV ヘッダを書き込む\n",
    "        writer.writerow(['マンション名','住所','立地1','立地2','立地3','築年数','建物高さ','階','賃料','管理費',\n",
    "                         '敷/礼/保証/敷引,償却','間取り','専有面積'])\n",
    "\n",
    "        # 各ページをスクレイピング\n",
    "        for url in urls:\n",
    "            with Timer('Scraping %s ...' % url):\n",
    "                for rows in scrape(url):\n",
    "                    writer.writerows(rows)\n",
    "\n",
    "    print('Successfully created %s.' % out_file)"
   ]
  }
 ],
 "metadata": {
  "kernelspec": {
   "display_name": "Python 3",
   "language": "python",
   "name": "python3"
  },
  "language_info": {
   "codemirror_mode": {
    "name": "ipython",
    "version": 3
   },
   "file_extension": ".py",
   "mimetype": "text/x-python",
   "name": "python",
   "nbconvert_exporter": "python",
   "pygments_lexer": "ipython3",
   "version": "3.6.4"
  }
 },
 "nbformat": 4,
 "nbformat_minor": 2
}
